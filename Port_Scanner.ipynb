{
 "cells": [
  {
   "cell_type": "code",
   "execution_count": null,
   "id": "a6546f90",
   "metadata": {
    "vscode": {
     "languageId": "plaintext"
    }
   },
   "outputs": [],
   "source": [
    "import win32evtlog\n",
    "\n",
    "server = 'localhost'\n",
    "log_type = 'Security'\n",
    "query = \"*[System/EventID=4625]\"  # Event ID 4625 = login gagal\n",
    "\n",
    "hand = win32evtlog.OpenEventLog(server, log_type)\n",
    "flags = win32evtlog.EVENTLOG_BACKWARDS_READ|win32evtlog.EVENTLOG_SEQUENTIAL_READ\n",
    "\n",
    "events = win32evtlog.ReadEventLog(hand, flags, 0)\n",
    "for event in events:\n",
    "    print(f\"Login gagal dari: {event.StringInserts}\")\n"
   ]
  }
 ],
 "metadata": {
  "language_info": {
   "name": "csharp"
  }
 },
 "nbformat": 4,
 "nbformat_minor": 5
}
